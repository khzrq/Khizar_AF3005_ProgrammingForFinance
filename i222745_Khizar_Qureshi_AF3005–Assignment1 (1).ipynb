{
  "nbformat": 4,
  "nbformat_minor": 0,
  "metadata": {
    "colab": {
      "provenance": []
    },
    "kernelspec": {
      "name": "python3",
      "display_name": "Python 3"
    },
    "language_info": {
      "name": "python"
    }
  },
  "cells": [
    {
      "cell_type": "markdown",
      "source": [
        "# **AF3005 – Programming for Finance**  \n",
        "\n",
        "---\n",
        "\n",
        "## **📘 Assignment 1: Smart Financial Management System**  \n",
        "\n",
        "📍 **FAST National University of Computer and Emerging Sciences (FAST-NUCES), Islamabad**  \n",
        "👨‍🏫 **Instructor:** Dr. Usama Arshad (Assistant Professor, FSM)  \n",
        "🎓 **Program:** BS Financial Technology (BSFT)  \n",
        "📅 **Semester:** Spring 2025  \n",
        "📌 **Sections:** BSFT06A, BSFT06B, BSFT06C  \n",
        "\n",
        "---\n",
        "\n",
        "## **🎯 Course Learning Outcomes (CLOs)**  \n",
        "- **CLO1:** Write Python programs to solve basic financial problems.  \n",
        "- **CLO2:** Perform data manipulation and analysis using Python libraries.  \n",
        "\n",
        "---\n",
        "\n",
        "\n",
        "\n",
        "\n",
        "\n",
        "\n",
        "\n",
        "\n",
        "\n",
        "\n",
        "\n"
      ],
      "metadata": {
        "id": "5SRLdaqmHtmP"
      }
    },
    {
      "cell_type": "markdown",
      "source": [
        "\n",
        "# **🟢 Deadline: 15th February 2025**\n",
        "\n",
        "---\n",
        "\n"
      ],
      "metadata": {
        "id": "wXgvxhSVQXNz"
      }
    },
    {
      "cell_type": "markdown",
      "source": [
        "## **📥 Submission Guidelines**\n",
        "- **File Format:** Submit your assignment as a Jupyter Notebook file (`.ipynb`).\n",
        "- **Naming Convention:** Use the format `[Your_regno]_AF3005_Assignment1.ipynb`.\n",
        "- **Submission Platform:** Upload your file to **Google Classroom** under the assigned submission.\n",
        "- **GitHub Repository:**\n",
        "  - Create a GitHub repository named `AF3005_ProgrammingForFinance`.\n",
        "  - Upload your `.ipynb` file.\n",
        "  - Ensure the repository is structured properly with a `README.md` explaining the implementation.\n",
        "  - The implementation must include `ipywidgets` for interactive elements.\n",
        "  - Share the GitHub repository link in Google Classroom submission with file.\n",
        "\n",
        "---\n",
        "\n",
        "---\n",
        "\n"
      ],
      "metadata": {
        "id": "mHDXP18hMn3A"
      }
    },
    {
      "cell_type": "markdown",
      "source": [
        "# **🟢 Scenario: Smart Financial Management System [20 marks]**  \n",
        "\n",
        "\n",
        "---\n",
        "\n",
        "\n",
        "SecureBank wants to develop an **automated financial management system** using Python. Your task is to implement different financial operations step by step.\n",
        "\n",
        "This system will:  \n",
        "✅ **Assess customer eligibility for loans.**  \n",
        "✅ **Classify investment portfolios based on risk.**  \n",
        "✅ **Automate loan repayment tracking.**  \n",
        "✅ **Monitor stock market trends and trigger alerts.**  \n",
        "✅ **Track currency exchange rates and suggest conversions.**  \n",
        "\n",
        "Your task is to **break down the requirements, write a structured plan, and implement the logic step by step** using **ipywidgets** for interactive user inputs.\n",
        "\n",
        "---\n",
        "\n"
      ],
      "metadata": {
        "id": "XEanO5EiLdC9"
      }
    },
    {
      "cell_type": "markdown",
      "source": [
        "## **🟢 Part 1: Loan Eligibility & Interest Rate Calculation [4 marks]**  \n",
        "\n",
        "📌 **Requirement:**  \n",
        "SecureBank only approves loans if the **customer meets all eligibility criteria**. The system should:  \n",
        "✔ **Check if the customer is employed.**  \n",
        "✔ **Verify if the income is at least PKR 50,000.**  \n",
        "✔ **Check credit score:**  \n",
        "   - **750+ → 5% Interest Rate**  \n",
        "   - **650 - 749 → 8% Interest Rate**  \n",
        "   - **Below 650 → Loan Rejected**  \n",
        "✔ **If the applicant is unemployed, the loan is rejected immediately.**  \n",
        "\n",
        "### **Implementation Steps:**  \n",
        "🔹 **Step 1:** Structure the `if-elif-else` statements for this logic.  \n",
        "🔹 **Step 2:** Implement a Python program using **ipywidgets** for interactive user input (income, credit score, employment status) to decide whether the loan is approved or rejected.\n",
        "\n",
        "---"
      ],
      "metadata": {
        "id": "sIKHzkmkLYYM"
      }
    },
    {
      "cell_type": "code",
      "source": [
        "import ipywidgets as widgets\n",
        "from IPython.display import display\n",
        "\n",
        "def interest_calculator(credit_score):\n",
        "    if credit_score >= 750:\n",
        "        return \"You can get the loan at 5% interest rate\"\n",
        "    elif 650 <= credit_score < 750:\n",
        "        return \"You can get the loan at 8% interest rate\"\n",
        "    else:\n",
        "        return \"Your loan is rejected\"\n",
        "\n",
        "def check_loan_eligibility(employment, income, credit_score):\n",
        "    if employment == \"No\" or income < 50000:\n",
        "        result.value = \"You are ineligible for a loan\"\n",
        "    else:\n",
        "        result.value = \"You are eligible for the loan\\n\" + interest_calculator(credit_score)\n",
        "\n",
        "# Creating widgets\n",
        "employment_widget = widgets.ToggleButtons(\n",
        "    options=[\"Yes\", \"No\"],\n",
        "    description=\"Employed:\",\n",
        ")\n",
        "\n",
        "income_widget = widgets.FloatText(\n",
        "    description=\"Income:\",\n",
        "    value=0,\n",
        ")\n",
        "\n",
        "credit_score_widget = widgets.FloatText(\n",
        "    description=\"Credit Score:\",\n",
        "    value=0,\n",
        ")\n",
        "\n",
        "check_button = widgets.Button(\n",
        "    description=\"Check Eligibility\",\n",
        "    button_style=\"success\",\n",
        ")\n",
        "\n",
        "result = widgets.Textarea(\n",
        "    value=\"\",\n",
        "    description=\"Result:\",\n",
        "    layout=widgets.Layout(width=\"50%\", height=\"100px\")\n",
        ")\n",
        "\n",
        "def on_button_click(b):\n",
        "    check_loan_eligibility(employment_widget.value, income_widget.value, credit_score_widget.value)\n",
        "\n",
        "check_button.on_click(on_button_click)\n",
        "\n",
        "display(employment_widget, income_widget, credit_score_widget, check_button, result)\n"
      ],
      "metadata": {
        "id": "JnoBYZkTKqRw"
      },
      "execution_count": null,
      "outputs": []
    },
    {
      "cell_type": "markdown",
      "source": [
        "## **🟢 Part 2: Investment Risk Assessment [4 marks]**  \n",
        "\n",
        "📌 **Requirement:**  \n",
        "SecureBank offers **investment analysis services**. The system should evaluate a **portfolio of stocks** and classify the risk level based on stock returns:  \n",
        "✔ If **any stock has a negative return**, the portfolio is **High Risk**.  \n",
        "✔ If **all stocks have positive returns**, but at least one return is below 5%, classify as **Medium Risk**.  \n",
        "✔ If **all stock returns are 5% or above**, classify as **Low Risk**.  \n",
        "\n",
        "### **Implementation Steps:**  \n",
        "🔹 **Step 1:** Use loops to iterate through the list of stock returns.  \n",
        "🔹 **Step 2:** Implement `if-elif` conditions to classify the risk.  \n",
        "🔹 **Step 3:** Write a Python program using **ipywidgets** to allow users to **input stock returns interactively** and receive a risk assessment.\n",
        "\n",
        "---"
      ],
      "metadata": {
        "id": "s66ykZPwKmRL"
      }
    },
    {
      "cell_type": "code",
      "source": [
        "import ipywidgets as widgets\n",
        "from IPython.display import display\n",
        "\n",
        "def stock_risk(stock_returns):\n",
        "    if any(return_ < 0 for return_ in stock_returns):\n",
        "        result.value = \"The portfolio is High RISK!\"\n",
        "    elif any(return_ < 5 for return_ in stock_returns):\n",
        "        result.value = \"The portfolio is Medium RISK!\"\n",
        "    else:\n",
        "        result.value = \"The portfolio is Low RISK!\"\n",
        "\n",
        "stock_widgets = {\n",
        "    \"AAPL\": widgets.FloatText(description=\"AAPL (%):\", value=0),\n",
        "    \"GOOGL\": widgets.FloatText(description=\"GOOGL (%):\", value=0),\n",
        "    \"NVDA\": widgets.FloatText(description=\"NVDA (%):\", value=0),\n",
        "    \"AMZN\": widgets.FloatText(description=\"AMZN (%):\", value=0),\n",
        "    \"TSLA\": widgets.FloatText(description=\"TSLA (%):\", value=0),\n",
        "}\n",
        "\n",
        "analyze_button = widgets.Button(\n",
        "    description=\"Analyze Risk\",\n",
        "    button_style=\"success\",\n",
        ")\n",
        "\n",
        "result = widgets.Textarea(\n",
        "    value=\"\",\n",
        "    description=\"Result:\",\n",
        "    layout=widgets.Layout(width=\"50%\", height=\"100px\")\n",
        ")\n",
        "\n",
        "def on_analyze_click(b):\n",
        "    stock_returns = [widget.value for widget in stock_widgets.values()]\n",
        "    stock_risk(stock_returns)\n",
        "\n",
        "analyze_button.on_click(on_analyze_click)\n",
        "\n",
        "display(*stock_widgets.values(), analyze_button, result)\n"
      ],
      "metadata": {
        "id": "I6Mi2LbOKtym"
      },
      "execution_count": null,
      "outputs": []
    },
    {
      "cell_type": "markdown",
      "source": [
        "7## **🟢 Part 3: Loan Repayment Tracker [4 marks]**  \n",
        "\n",
        "📌 **Requirement:**  \n",
        "Customers who receive a loan should be able to track their **loan balance** as they make monthly payments. The system should:  \n",
        "✔ Start with an **initial loan balance** (e.g., PKR 500,000).  \n",
        "✔ Deduct a **fixed monthly payment** (e.g., PKR 25,000).  \n",
        "✔ Continue tracking until **loan balance reaches zero**.  \n",
        "✔ Display the remaining balance **after each payment**.  \n",
        "\n",
        "### **Implementation Steps:**  \n",
        "🔹 **Step 1:** Choose an appropriate loop (`for` or `while`).  \n",
        "🔹 **Step 2:** Ensure the loop **stops once the loan is fully paid**.  \n",
        "🔹 **Step 3:** Implement a Python program using **ipywidgets** to **simulate loan repayment interactively**.\n",
        "\n",
        "---"
      ],
      "metadata": {
        "id": "xTrlsvaZKhaQ"
      }
    },
    {
      "cell_type": "code",
      "source": [
        "import ipywidgets as widgets\n",
        "from IPython.display import display\n",
        "\n",
        "def initial_balance(balance, new_balance):\n",
        "  balance=500000\n",
        "  new_balance =25000\n",
        "\n",
        "  while balance > 0:\n",
        "    balance -= new_balance\n",
        "    print(\"Remaining Balance= \",balance)\n",
        "  print(\"Final Balance is zero, loan paid successfully.\")\n",
        "\n",
        "balance_widget = widgets.IntText(value=500000, description=\"Initial Balance:\")\n",
        "deduction_widget = widgets.IntText(value=25000, description=\"Deduction:\")\n",
        "calculate_button = widgets.Button(description=\"Start Simulation\", button_style=\"success\")\n",
        "output = widgets.Output()\n",
        "\n",
        "def on_button_click(b):\n",
        "    initial_balance(balance_widget.value, deduction_widget.value)\n",
        "\n",
        "calculate_button.on_click(on_button_click)\n",
        "\n",
        "display(balance_widget, deduction_widget, calculate_button, output)"
      ],
      "metadata": {
        "id": "h3V9vFDjKvGH"
      },
      "execution_count": null,
      "outputs": []
    },
    {
      "cell_type": "markdown",
      "source": [
        "\n",
        "## **🟢 Part 4: Stock Price Monitoring and Trading Strategy [4 marks]**  \n",
        "\n",
        "📌 **Requirement:**  \n",
        "A stock trader wants to **track stock prices daily** and **sell when the price reaches PKR 200**. The system should:  \n",
        "✔ Iterate through a **list of stock prices**.  \n",
        "✔ **Skip missing stock data** (`None` values).  \n",
        "✔ Stop tracking **once the price reaches PKR 200**.  \n",
        "\n",
        "### **Implementation Steps:**  \n",
        "🔹 **Step 1:** Handle missing stock data using `continue`.  \n",
        "🔹 **Step 2:** Stop tracking once the stock hits the target price (`break`).  \n",
        "🔹 **Step 3:** Write a Python program using **ipywidgets** to **process stock prices interactively** and trigger alerts when conditions are met.\n",
        "\n",
        "---"
      ],
      "metadata": {
        "id": "3V72WRTcKc17"
      }
    },
    {
      "cell_type": "code",
      "source": [
        "import ipywidgets as widgets\n",
        "from IPython.display import display\n",
        "\n",
        "def track_stock_prices(prices):\n",
        "    output.clear_output()\n",
        "    with output:\n",
        "        for price in prices:\n",
        "            if price is None:\n",
        "                continue\n",
        "            print(f\"Stock Price: PKR {price}\")\n",
        "            if price >= 200:\n",
        "                print(\"Alert: Stock price has reached PKR 200! Time to sell.\")\n",
        "                break\n",
        "\n",
        "prices_widget = widgets.Textarea(\n",
        "    value=\"100, 120, None, 150, 180, None, 200, 220\",\n",
        "    description=\"Stock Prices:\",\n",
        "    layout=widgets.Layout(width=\"50%\", height=\"100px\")\n",
        ")\n",
        "\n",
        "analyze_button = widgets.Button(description=\"Track Prices\", button_style=\"success\")\n",
        "output = widgets.Output()\n",
        "\n",
        "def on_button_click(b):\n",
        "    prices = [float(p.strip()) if p.strip().lower() != \"none\" else None for p in prices_widget.value.split(\",\")]\n",
        "    track_stock_prices(prices)\n",
        "\n",
        "analyze_button.on_click(on_button_click)\n",
        "\n",
        "display(prices_widget, analyze_button, output)\n"
      ],
      "metadata": {
        "id": "G4v6qt6GKwFN"
      },
      "execution_count": null,
      "outputs": []
    },
    {
      "cell_type": "markdown",
      "source": [
        "\n",
        "## **🟢 Part 5: Currency Exchange Rate Tracker [4 marks]**  \n",
        "\n",
        "📌 **Requirement:**  \n",
        "SecureBank provides **real-time currency exchange tracking**. The system should:  \n",
        "✔ Start at **PKR 290/USD**.  \n",
        "✔ Increase by **1 PKR per day** until it reaches **PKR 300/USD**.  \n",
        "✔ Print exchange rates daily and stop when the **target rate is reached**.  \n",
        "\n",
        "### **Implementation Steps:**  \n",
        "🔹 **Step 1:** Choose a suitable loop (`for` or `while`).  \n",
        "🔹 **Step 2:** Stop the loop when the exchange rate reaches the target.  \n",
        "🔹 **Step 3:** Implement a Python program using **ipywidgets** to **track the currency exchange rate interactively**.\n",
        "\n",
        "---"
      ],
      "metadata": {
        "id": "lD82JT7-KXqK"
      }
    },
    {
      "cell_type": "code",
      "source": [
        "import ipywidgets as widgets\n",
        "from IPython.display import display\n",
        "def ex_rate():\n",
        "    price = 290\n",
        "    increment = price\n",
        "\n",
        "    while increment < 301:\n",
        "        print(\"Today's exchange rate is: \", increment)\n",
        "        increment += 1\n",
        "    print(\"Target rate is reached\")\n",
        "\n",
        "\n",
        "start_button = widgets.Button(description=\"Start Tracking\", button_style=\"success\")\n",
        "output = widgets.Output()\n",
        "\n",
        "def on_button_click(b):\n",
        "    ex_rate()\n",
        "\n",
        "start_button.on_click(on_button_click)\n",
        "\n",
        "display(start_button, output)\n"
      ],
      "metadata": {
        "id": "3xiDWiabKwfr"
      },
      "execution_count": null,
      "outputs": []
    },
    {
      "cell_type": "markdown",
      "source": [
        "*   \n",
        "*\n",
        "*   \n",
        "*   \n",
        "*   \n",
        "*\n",
        "*   \n",
        "*"
      ],
      "metadata": {
        "id": "-gpSKR0APnLP"
      }
    },
    {
      "cell_type": "markdown",
      "source": [
        "\n",
        "\n",
        "---\n",
        "\n",
        "\n",
        "======================================== *to err is human* ========================================\n",
        "\n",
        "\n",
        "---\n",
        "\n"
      ],
      "metadata": {
        "id": "hUFnFKjmKxeH"
      }
    },
    {
      "cell_type": "markdown",
      "source": [
        "*   \n",
        "*\n",
        "*   \n",
        "*   \n",
        "*   \n",
        "*\n",
        "*   \n",
        "*\n",
        "\n",
        "---\n",
        "\n",
        "## **🎯 Grading Rubric (20 Marks)**  \n",
        "\n",
        "| **Criteria**           | **🌟 Excellent (4 Marks)** | **✅ Good (3 Marks)** | **⚠️ Satisfactory (2 Marks)** | **❌ Needs Improvement (1 Mark)** | **🚫 No Attempt (0 Marks)** |\n",
        "|------------------------|-----------------------|------------------|----------------------|----------------------|----------------------|\n",
        "| **📝 Loan Eligibility System**  | ✅ Correct logic with `ipywidgets`, handles user input well. | ⚠️ Mostly correct logic, minor issues. | ❌ Basic logic but missing conditions. | 🚫 Major errors in implementation. | ❌ No implementation. |\n",
        "| **📊 Investment Risk Assessment**  | ✅ Efficient looping with correct risk classification and `ipywidgets`. | ⚠️ Minor issues in logic or implementation. | ❌ Some conditions missing, basic implementation. | 🚫 Incorrect or incomplete logic. | ❌ No implementation. |\n",
        "| **💰 Loan Repayment Tracker**  | ✅ Tracks repayment correctly, interactive using `ipywidgets`. | ⚠️ Correct logic but missing interactivity. | ❌ Loop present but some logic missing. | 🚫 Incorrect approach. | ❌ No implementation. |\n",
        "| **📈 Stock Price Monitoring**  | ✅ Proper use of `continue` and `break`, handles missing values. | ⚠️ Minor logic issues, mostly correct. | ❌ Some conditions missing, partially correct. | 🚫 Incorrect logic, missing key elements. | ❌ No implementation. |\n",
        "| **💹 Currency Exchange Tracker**  | ✅ Correct loop, stops at target rate, structured well with `ipywidgets`. | ⚠️ Mostly correct, minor inefficiencies. | ❌ Incorrect stopping condition, basic implementation. | 🚫 Incorrect approach. | ❌ No implementation. |\n",
        "| **📜 Code Quality & Structure**  | ✅ Well-commented, clean code, follows best practices. | ⚠️ Mostly structured but needs better readability. | ❌ Works but lacks clarity. | 🚫 Unstructured, lacks comments. | ❌ No code present. |\n",
        "| **🎛️ Use of `ipywidgets`** | ✅ Used effectively in all parts, enhances interactivity. | ⚠️ Used in most parts but minor inefficiencies. | ❌ Implemented but not fully functional. | 🚫 Attempted but not used correctly. | ❌ No implementation. |\n",
        "| **📂 GitHub Submission & Documentation** | ✅ Well-structured repo, proper `README.md`. | ⚠️ Repo exists but lacks structured documentation. | ❌ Basic submission, missing details. | 🚫 Attempted but incomplete. | ❌ No submission. |\n",
        "| **📤 Google Classroom Submission** | ✅ Submitted correctly with all required elements. | ⚠️ Submitted but missing minor details. | ❌ Late submission or incomplete. | 🚫 Attempted but missing key parts. | ❌ No submission. |\n",
        "| **🔎 Overall Implementation & Accuracy** | ✅ All features implemented correctly, runs smoothly. | ⚠️ Most features implemented, minor issues. | ❌ Some features missing but basic functionality works. | 🚫 Major features missing. | ❌ No implementation. |\n",
        "\n",
        "---\n",
        "\n"
      ],
      "metadata": {
        "id": "E2rlRDSuPPRt"
      }
    },
    {
      "cell_type": "markdown",
      "source": [
        "*Follow the deadline. This is an individual assignment. Do not copy/paste from LLMs or from other students.*"
      ],
      "metadata": {
        "id": "-_kwwSB6PiZp"
      }
    }
  ]
}